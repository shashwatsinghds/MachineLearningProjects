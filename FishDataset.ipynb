{
 "cells": [
  {
   "cell_type": "markdown",
   "metadata": {},
   "source": [
    "# Fish Data Analysis: Linear Regression for Height vs. Weight\n"
   ]
  },
  {
   "cell_type": "markdown",
   "metadata": {},
   "source": [
    "## 1. Problem Statement  \n",
    "This project aims to explore the **relationship between the height and weight of fish**. The goal is to develop a **linear regression model** to predict fish weight based on height.  \n",
    "Understanding this relationship can provide insights into fish growth patterns and can be useful for fisheries research and management.\n"
   ]
  },
  {
   "cell_type": "code",
   "execution_count": null,
   "metadata": {},
   "outputs": [],
   "source": [
    "import pandas as pd\n",
    "import numpy as np\n",
    "import matplotlib.pyplot as plt\n",
    "import seaborn as sns\n",
    "from sklearn.model_selection import train_test_split\n",
    "from sklearn.linear_model import LinearRegression\n",
    "from sklearn.metrics import mean_squared_error, r2_score\n"
   ]
  },
  {
   "cell_type": "markdown",
   "metadata": {},
   "source": [
    "## 2. Dataset Overview  \n",
    "\n",
    "The data dictionary is below:\n",
    "\n",
    "| **variable**      | **description**        |\n",
    "|-------------------|------------------------|\n",
    "| `species`         | Species name of fish   |\n",
    "| `weight`          | Weight, in grams       |\n",
    "| `length_vertical` | Vertical length, in cm |\n",
    "| `length_diagonal` | Diagonal length, in cm |\n",
    "| `length_cross`    | Cross length, in cm    |\n",
    "| `height`          | Height, in cm          |\n",
    "| `width`           | Diagonal width, in cm  |\n",
    "    \n",
    "The dataset may include other variables such as lengths and widths, but for this analysis, we are focusing on **height and weight**.\n"
   ]
  }
 ],
 "metadata": {
  "kernelspec": {
   "display_name": "Python 3",
   "language": "python",
   "name": "python3"
  },
  "language_info": {
   "name": "python",
   "version": "3.11.1"
  }
 },
 "nbformat": 4,
 "nbformat_minor": 2
}
